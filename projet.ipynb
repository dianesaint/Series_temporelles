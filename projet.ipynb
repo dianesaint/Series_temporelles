{
 "cells": [
  {
   "cell_type": "markdown",
   "id": "48a4af02",
   "metadata": {},
   "source": [
    "codes à faire tourner pour installer R à chaque fois:\n",
    "\n",
    "dans un terminal R:\n",
    "install.packages('IRkernel')\n",
    "\n",
    "puis dans le terminal normal: pip install jupyter\n",
    "\n",
    "puis re dans terminal R:\n",
    "IRkernel::installspec(user = TRUE)"
   ]
  },
  {
   "cell_type": "markdown",
   "id": "ae476236",
   "metadata": {},
   "source": [
    "Préparation base"
   ]
  },
  {
   "cell_type": "code",
   "execution_count": 1,
   "id": "982cfc36",
   "metadata": {
    "vscode": {
     "languageId": "r"
    }
   },
   "outputs": [],
   "source": [
    "# import des données\n",
    "\n",
    "data <- read.csv(\"/home/onyxia/work/Series_temporelles/valeurs_mensuelles.csv\")"
   ]
  }
 ],
 "metadata": {
  "kernelspec": {
   "display_name": "R",
   "language": "R",
   "name": "ir"
  },
  "language_info": {
   "codemirror_mode": "r",
   "file_extension": ".r",
   "mimetype": "text/x-r-source",
   "name": "R",
   "pygments_lexer": "r",
   "version": "4.5.0"
  }
 },
 "nbformat": 4,
 "nbformat_minor": 5
}
