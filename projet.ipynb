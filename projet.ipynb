{
 "cells": [
  {
   "cell_type": "markdown",
   "id": "48a4af02",
   "metadata": {},
   "source": [
    "codes à faire tourner pour installer R à chaque fois:\n",
    "\n",
    "dans un terminal R:\n",
    "install.packages('IRkernel')\n",
    "\n",
    "puis dans le terminal normal: pip install jupyter\n",
    "\n",
    "puis re dans terminal R:\n",
    "IRkernel::installspec(user = TRUE)"
   ]
  }
 ],
 "metadata": {
  "language_info": {
   "name": "python"
  }
 },
 "nbformat": 4,
 "nbformat_minor": 5
}
