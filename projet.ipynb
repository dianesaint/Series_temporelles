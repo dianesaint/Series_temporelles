{
 "cells": [
  {
   "cell_type": "markdown",
   "id": "48a4af02",
   "metadata": {},
   "source": [
    "codes à faire tourner pour installer R à chaque fois:\n",
    "\n",
    "dans un terminal R:\n",
    "install.packages('IRkernel')\n",
    "\n",
    "puis dans le terminal normal: pip install jupyter\n",
    "\n",
    "puis re dans terminal R:\n",
    "IRkernel::installspec(user = TRUE)"
   ]
  },
  {
   "cell_type": "markdown",
   "id": "ae476236",
   "metadata": {},
   "source": [
    "Préparation base"
   ]
  },
  {
   "cell_type": "code",
   "execution_count": 4,
   "id": "a47bac43",
   "metadata": {
    "vscode": {
     "languageId": "r"
    }
   },
   "outputs": [
    {
     "name": "stderr",
     "output_type": "stream",
     "text": [
      "Installing package into ‘/usr/local/lib/R/site-library’\n",
      "(as ‘lib’ is unspecified)\n",
      "\n"
     ]
    },
    {
     "name": "stderr",
     "output_type": "stream",
     "text": [
      "Installing package into ‘/usr/local/lib/R/site-library’\n",
      "(as ‘lib’ is unspecified)\n",
      "\n",
      "also installing the dependencies ‘xts’, ‘TTR’, ‘quadprog’, ‘quantmod’\n",
      "\n",
      "\n"
     ]
    }
   ],
   "source": [
    "# chargement de packages\n",
    "install.packages(\"zoo\")\n",
    "install.packages(\"tseries\")"
   ]
  },
  {
   "cell_type": "code",
   "execution_count": 5,
   "id": "87ea141d",
   "metadata": {
    "vscode": {
     "languageId": "r"
    }
   },
   "outputs": [
    {
     "name": "stderr",
     "output_type": "stream",
     "text": [
      "\n",
      "Attaching package: ‘zoo’\n",
      "\n",
      "\n",
      "The following objects are masked from ‘package:base’:\n",
      "\n",
      "    as.Date, as.Date.numeric\n",
      "\n",
      "\n",
      "Registered S3 method overwritten by 'quantmod':\n",
      "  method            from\n",
      "  as.zoo.data.frame zoo \n",
      "\n"
     ]
    }
   ],
   "source": [
    "library(zoo)\n",
    "library(tseries)"
   ]
  },
  {
   "cell_type": "code",
   "execution_count": 1,
   "id": "982cfc36",
   "metadata": {
    "vscode": {
     "languageId": "r"
    }
   },
   "outputs": [],
   "source": [
    "# import des données\n",
    "\n",
    "data <- read.csv(\"/home/onyxia/work/Series_temporelles/valeurs_mensuelles.csv\")"
   ]
  },
  {
   "cell_type": "code",
   "execution_count": null,
   "id": "06a312a8",
   "metadata": {
    "vscode": {
     "languageId": "r"
    }
   },
   "outputs": [
    {
     "name": "stderr",
     "output_type": "stream",
     "text": [
      "Loading required package: zoo\n",
      "\n",
      "Warning message in library(package, lib.loc = lib.loc, character.only = TRUE, logical.return = TRUE, :\n",
      "“there is no package called ‘zoo’”\n",
      "Loading required package: tseries\n",
      "\n",
      "Warning message in library(package, lib.loc = lib.loc, character.only = TRUE, logical.return = TRUE, :\n",
      "“there is no package called ‘tseries’”\n"
     ]
    }
   ],
   "source": []
  }
 ],
 "metadata": {
  "kernelspec": {
   "display_name": "R",
   "language": "R",
   "name": "ir"
  },
  "language_info": {
   "codemirror_mode": "r",
   "file_extension": ".r",
   "mimetype": "text/x-r-source",
   "name": "R",
   "pygments_lexer": "r",
   "version": "4.5.0"
  }
 },
 "nbformat": 4,
 "nbformat_minor": 5
}
